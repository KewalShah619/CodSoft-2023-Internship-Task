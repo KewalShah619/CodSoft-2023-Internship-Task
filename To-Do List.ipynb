{
 "cells": [
  {
   "cell_type": "code",
   "execution_count": 45,
   "id": "b6cc5648",
   "metadata": {},
   "outputs": [],
   "source": [
    "from tkinter import *"
   ]
  },
  {
   "cell_type": "code",
   "execution_count": 46,
   "id": "e07c3faa",
   "metadata": {},
   "outputs": [],
   "source": [
    "#root window\n",
    "root = Tk()\n",
    "root.title(\"To-Do List\")\n",
    "heading_L = Label(root, text=\"To-Do List\", font=(\"Calibri\", 20, \"bold\"))\n",
    "heading_L.pack(pady=5)"
   ]
  },
  {
   "cell_type": "code",
   "execution_count": 47,
   "id": "f496239c",
   "metadata": {},
   "outputs": [],
   "source": [
    "#Add Item label\n",
    "addItem_L = Label(root, text=\"Add Items\", bd=1)\n",
    "addItem_L.pack(anchor=W, padx=7)"
   ]
  },
  {
   "cell_type": "code",
   "execution_count": 48,
   "id": "a5388278",
   "metadata": {},
   "outputs": [],
   "source": [
    "#Item Entry box\n",
    "item = Entry(root, width=50)\n",
    "item.pack(pady=10)"
   ]
  },
  {
   "cell_type": "code",
   "execution_count": 49,
   "id": "0226f4fa",
   "metadata": {},
   "outputs": [],
   "source": [
    "#Button frame\n",
    "button_frame = Frame(root)\n",
    "button_frame.pack(pady=5)"
   ]
  },
  {
   "cell_type": "code",
   "execution_count": 50,
   "id": "3b0f4547",
   "metadata": {},
   "outputs": [],
   "source": [
    "#Submit button\n",
    "def addItem_B():\n",
    "    if len(item.get())!=0:\n",
    "        my_list.insert(END, item.get())\n",
    "        item.delete(0, END)\n",
    "    \n",
    "submit = Button(button_frame, text=\"Submit Item\", command=addItem_B)\n",
    "submit.pack(side=LEFT, padx=5)"
   ]
  },
  {
   "cell_type": "code",
   "execution_count": 51,
   "id": "82ee38d2",
   "metadata": {},
   "outputs": [],
   "source": [
    "#Delete button\n",
    "def deleteItem_B():\n",
    "    my_list.delete(ANCHOR)\n",
    "    \n",
    "delete = Button(button_frame, text=\"Delete Item\", fg=\"red\", command=deleteItem_B)\n",
    "delete.pack(side=LEFT, padx=5)"
   ]
  },
  {
   "cell_type": "code",
   "execution_count": 52,
   "id": "4ae6f249",
   "metadata": {},
   "outputs": [],
   "source": [
    "#Edit button\n",
    "def editItem_B():\n",
    "    for i in my_list.curselection():\n",
    "        my_list.delete(i)\n",
    "        my_list.insert(i, item.get())\n",
    "        item.delete(0, END)\n",
    "        \n",
    "edit = Button(button_frame, text=\"Edit Task\", command=editItem_B)\n",
    "edit.pack(side=LEFT, padx=5)"
   ]
  },
  {
   "cell_type": "code",
   "execution_count": 53,
   "id": "a37319ec",
   "metadata": {},
   "outputs": [],
   "source": [
    "#Seperator Line\n",
    "separator = Frame(root, height=3, bd=1, relief=SUNKEN)\n",
    "separator.pack(fill='x', pady=2)"
   ]
  },
  {
   "cell_type": "code",
   "execution_count": 54,
   "id": "1dd991df",
   "metadata": {},
   "outputs": [],
   "source": [
    "#Task label\n",
    "taskLabel = Label(root, text=\"Tasks Added\")\n",
    "taskLabel.pack(anchor=W, padx=8)"
   ]
  },
  {
   "cell_type": "code",
   "execution_count": 55,
   "id": "2b92865f",
   "metadata": {},
   "outputs": [],
   "source": [
    "#Listbox\n",
    "my_list = Listbox(root,\n",
    "    height=10,\n",
    "    width=50,\n",
    "    bd=0,\n",
    "    highlightthickness=0,\n",
    "    activestyle=\"none\"\n",
    ")\n",
    "my_list.pack(pady=10, padx=10)"
   ]
  },
  {
   "cell_type": "code",
   "execution_count": 56,
   "id": "1c732186",
   "metadata": {},
   "outputs": [
    {
     "data": {
      "text/plain": [
       "'2429744383552selection'"
      ]
     },
     "execution_count": 56,
     "metadata": {},
     "output_type": "execute_result"
    }
   ],
   "source": [
    "#Item Selection\n",
    "def selection(event):\n",
    "    selected_item = my_list.get(my_list.curselection())\n",
    "    item.delete(0, END)\n",
    "    item.insert(0, selected_item)\n",
    "    \n",
    "my_list.bind('<<ListboxSelect>>', selection)"
   ]
  },
  {
   "cell_type": "code",
   "execution_count": 57,
   "id": "c744373a",
   "metadata": {
    "scrolled": true
   },
   "outputs": [],
   "source": [
    "root.mainloop()"
   ]
  },
  {
   "cell_type": "code",
   "execution_count": null,
   "id": "2a77a7ce",
   "metadata": {},
   "outputs": [],
   "source": []
  }
 ],
 "metadata": {
  "kernelspec": {
   "display_name": "Python 3 (ipykernel)",
   "language": "python",
   "name": "python3"
  },
  "language_info": {
   "codemirror_mode": {
    "name": "ipython",
    "version": 3
   },
   "file_extension": ".py",
   "mimetype": "text/x-python",
   "name": "python",
   "nbconvert_exporter": "python",
   "pygments_lexer": "ipython3",
   "version": "3.11.4"
  }
 },
 "nbformat": 4,
 "nbformat_minor": 5
}
